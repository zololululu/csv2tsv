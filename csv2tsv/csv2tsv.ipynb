{
 "cells": [
  {
   "cell_type": "code",
   "execution_count": 1,
   "metadata": {},
   "outputs": [],
   "source": [
    "import pandas as pd\n",
    "import re"
   ]
  },
  {
   "cell_type": "code",
   "execution_count": 2,
   "metadata": {},
   "outputs": [],
   "source": [
    "path = 'C:/Users/Administrator/Desktop/编程/Data/Data'\n",
    "for name in ['20200325_counsel_chat','counselchat-data']:\n",
    "    df = pd.read_csv('{}/{}.csv'.format(path,name), usecols=['questionTitle','answerText'],sep=',', encoding='utf-8')\n",
    "    \n",
    "    #删除缺失值所在行\n",
    "    df.dropna(axis=0, how='any', inplace=True)\n",
    "    \n",
    "    for index,row in df.iterrows():\n",
    "    #question加空格\n",
    "        q_last = row['questionTitle'][-1]\n",
    "        if re.match('[\\?!\\.]',q_last):\n",
    "            row['questionTitle'] = row['questionTitle'][:-1] + ' '+ q_last\n",
    "        else:\n",
    "            row['questionTitle'] = row['questionTitle'] + ' ?'\n",
    "    \n",
    "    #answer加空格\n",
    "        a_last = row['answerText'][-1]\n",
    "        if re.match('[\\?!\\.]',a_last):\n",
    "            row['answerText'] = row['answerText'][:-1] + ' '+ a_last\n",
    "        else:\n",
    "            row['answerText'] = row['answerText'] + ' .'\n",
    "        \n",
    "    #0.0question/1.0answer格式\n",
    "    for index,row in df.iterrows():\n",
    "        row['questionTitle'] = '0.0 ' + row['questionTitle']\n",
    "        row['answerText'] = '1.0 ' + row['answerText']\n",
    "        \n",
    "     #去除HTML标签并去除双引号\n",
    "    df = df.replace({'<(.*?)>':'', '&nbsp;':'', '\\\"':''}, regex = True)\n",
    "    \n",
    "    df.to_csv('{}/{}.tsv'.format(path,name), index=False, header=None, sep='\\t', encoding='utf-8')"
   ]
  },
  {
   "cell_type": "code",
   "execution_count": 3,
   "metadata": {},
   "outputs": [],
   "source": [
    "for name in ['scrap','scrap_context']:\n",
    "    df = pd.read_csv('{}/{}.csv'.format(path,name), usecols=['title','response'],sep=',', encoding='utf-8')\n",
    "    \n",
    "    #去掉缺失值\n",
    "    x = df[df['title'].str.contains('\\[delete')]\n",
    "    y = df[df['response'].str.contains('\\[delete')]\n",
    "    list1 = list(set(list(x.index)+list(y.index)))\n",
    "    df.drop(df.index[list1],inplace=True)\n",
    "    \n",
    "    #去除HTML标签\n",
    "    df = df.replace({'<(.*?)>':'', '&nbsp;':' ', '\\\"':''}, regex = True)\n",
    "    \n",
    "    for index,row in df.iterrows():\n",
    "        #question加空格\n",
    "        q_last = row['title'][-1]\n",
    "        if re.match('[\\?!\\.]',q_last):\n",
    "            row['title'] = row['title'][:-1] + ' '+ q_last\n",
    "        else:\n",
    "            row['title'] = row['title'] + ' ?'\n",
    "\n",
    "        #answer加空格\n",
    "        a_last = row['response'][-1]\n",
    "        if re.match('[\\?!\\.]',a_last):\n",
    "            row['response'] = row['response'][:-1] + ' '+ a_last\n",
    "        else:\n",
    "            row['response'] = row['response'] + ' .'\n",
    "        \n",
    "    #0.0question/1.0answer格式\n",
    "    for index,row in df.iterrows():\n",
    "        row['title'] = '0.0 ' + row['title']\n",
    "        row['response'] = '1.0 ' + row['response']\n",
    "\n",
    "    df.to_csv('{}/{}.tsv'.format(path,name), index=False, header=None, sep='\\t', encoding='utf-8')"
   ]
  },
  {
   "cell_type": "code",
   "execution_count": null,
   "metadata": {},
   "outputs": [],
   "source": []
  },
  {
   "cell_type": "code",
   "execution_count": null,
   "metadata": {},
   "outputs": [],
   "source": []
  },
  {
   "cell_type": "code",
   "execution_count": null,
   "metadata": {},
   "outputs": [],
   "source": []
  }
 ],
 "metadata": {
  "kernelspec": {
   "display_name": "Python 3",
   "language": "python",
   "name": "python3"
  },
  "language_info": {
   "codemirror_mode": {
    "name": "ipython",
    "version": 3
   },
   "file_extension": ".py",
   "mimetype": "text/x-python",
   "name": "python",
   "nbconvert_exporter": "python",
   "pygments_lexer": "ipython3",
   "version": "3.8.5"
  }
 },
 "nbformat": 4,
 "nbformat_minor": 4
}
