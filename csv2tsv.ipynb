{
 "cells": [
  {
   "cell_type": "code",
   "execution_count": 1,
   "metadata": {},
   "outputs": [],
   "source": [
    "import pandas as pd"
   ]
  },
  {
   "cell_type": "code",
   "execution_count": 2,
   "metadata": {},
   "outputs": [],
   "source": [
    "path = 'C:/Users/Administrator/Desktop/编程/Data/Data'\n",
    "for name in ['20200325_counsel_chat','counselchat-data']:\n",
    "    df = pd.read_csv('{}/{}.csv'.format(path,name), usecols=['questionTitle','answerText'],sep=',', encoding='utf-8')\n",
    "    \n",
    "    #去除HTML标签\n",
    "    df = df.replace({'<(.*?)>':'','&nbsp;':' '}, regex = True)\n",
    "    \n",
    "    df.to_csv('{}/{}.tsv'.format(path,name), index=False, header=None, sep='\\t', encoding='utf-8')"
   ]
  },
  {
   "cell_type": "code",
   "execution_count": 3,
   "metadata": {},
   "outputs": [],
   "source": [
    "for name in ['scrap','scrap_context']:\n",
    "    df = pd.read_csv('{}/{}.csv'.format(path,name), usecols=['title','response'],sep=',', encoding='utf-8')\n",
    "    \n",
    "    #去掉缺失值\n",
    "    x = df[df['title'].str.contains('\\[delete')]\n",
    "    y = df[df['response'].str.contains('\\[delete')]\n",
    "    list1 = list(set(list(x.index)+list(y.index)))\n",
    "    df.drop(df.index[list1],inplace=True)\n",
    "    \n",
    "    #去除HTML标签\n",
    "    df = df.replace({'<(.*?)>':'','&nbsp;':' '}, regex = True)\n",
    "    \n",
    "    df.to_csv('{}/{}.tsv'.format(path,name), index=False, header=None, sep='\\t', encoding='utf-8')"
   ]
  },
  {
   "cell_type": "code",
   "execution_count": null,
   "metadata": {},
   "outputs": [],
   "source": []
  }
 ],
 "metadata": {
  "kernelspec": {
   "display_name": "Python 3",
   "language": "python",
   "name": "python3"
  },
  "language_info": {
   "codemirror_mode": {
    "name": "ipython",
    "version": 3
   },
   "file_extension": ".py",
   "mimetype": "text/x-python",
   "name": "python",
   "nbconvert_exporter": "python",
   "pygments_lexer": "ipython3",
   "version": "3.8.5"
  }
 },
 "nbformat": 4,
 "nbformat_minor": 4
}
